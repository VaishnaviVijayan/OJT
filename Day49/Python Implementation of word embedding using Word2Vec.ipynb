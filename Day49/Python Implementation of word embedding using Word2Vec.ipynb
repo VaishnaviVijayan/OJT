{
 "cells": [
  {
   "cell_type": "markdown",
   "id": "4191e3c4-b6ee-4a65-a4fb-b9af17558ea4",
   "metadata": {},
   "source": [
    "pip install scipy==1.12.0\n",
    "pip install gensim"
   ]
  },
  {
   "cell_type": "code",
   "execution_count": 5,
   "id": "7a9891cf-ac5d-4ae1-bda6-b3a88e24a9d2",
   "metadata": {},
   "outputs": [
    {
     "name": "stderr",
     "output_type": "stream",
     "text": [
      "[nltk_data] Downloading package punkt to\n",
      "[nltk_data]     C:\\Users\\hp\\AppData\\Roaming\\nltk_data...\n",
      "[nltk_data]   Package punkt is already up-to-date!\n"
     ]
    },
    {
     "data": {
      "text/plain": [
       "True"
      ]
     },
     "execution_count": 5,
     "metadata": {},
     "output_type": "execute_result"
    }
   ],
   "source": [
    "#Importing libraries\n",
    "from gensim.models import Word2Vec\n",
    "from nltk.tokenize import word_tokenize\n",
    "from nltk import download\n",
    "download (\"punkt\")"
   ]
  },
  {
   "cell_type": "code",
   "execution_count": 12,
   "id": "a421e517-ea29-45cd-8c25-7763054fc6c6",
   "metadata": {},
   "outputs": [],
   "source": [
    "#example sentence\n",
    "sentences = [\n",
    "    \"Natural language processing is fun.\",\n",
    "    \"Language models are improving everyday.\"]"
   ]
  },
  {
   "cell_type": "code",
   "execution_count": 13,
   "id": "18f5a0be-8948-465f-9c8c-72ba3c2d2de7",
   "metadata": {},
   "outputs": [
    {
     "data": {
      "text/plain": [
       "[['natural', 'language', 'processing', 'is', 'fun', '.'],\n",
       " ['language', 'models', 'are', 'improving', 'everyday', '.']]"
      ]
     },
     "execution_count": 13,
     "metadata": {},
     "output_type": "execute_result"
    }
   ],
   "source": [
    "#Tokenize sentence\n",
    "tokenized_sentences = [word_tokenize(sentence.lower()) for sentence in sentences]\n",
    "tokenized_sentences "
   ]
  },
  {
   "cell_type": "code",
   "execution_count": 14,
   "id": "c93dec2b-6e02-4af9-9633-3406934255f4",
   "metadata": {},
   "outputs": [],
   "source": [
    "#Train the Word2Vec model\n",
    "model = Word2Vec(sentences=tokenized_sentences, vector_size=5, window=5, min_count=1, workers=4, sg=0)"
   ]
  },
  {
   "cell_type": "code",
   "execution_count": 15,
   "id": "c1ccf5dd-b1fd-489d-803b-86e50c003289",
   "metadata": {},
   "outputs": [
    {
     "name": "stdout",
     "output_type": "stream",
     "text": [
      "Word vector for 'language' :  [-0.14233617  0.12917745  0.17945977 -0.10030856 -0.07526743]\n"
     ]
    }
   ],
   "source": [
    "#Get word vectors\n",
    "word_vectors = model.wv\n",
    "print(\"Word vector for 'language' : \", word_vectors['language'])"
   ]
  },
  {
   "cell_type": "code",
   "execution_count": null,
   "id": "c1e23145-8bd7-4534-87df-58020470d9e1",
   "metadata": {},
   "outputs": [],
   "source": []
  }
 ],
 "metadata": {
  "kernelspec": {
   "display_name": "Python 3 (ipykernel)",
   "language": "python",
   "name": "python3"
  },
  "language_info": {
   "codemirror_mode": {
    "name": "ipython",
    "version": 3
   },
   "file_extension": ".py",
   "mimetype": "text/x-python",
   "name": "python",
   "nbconvert_exporter": "python",
   "pygments_lexer": "ipython3",
   "version": "3.11.7"
  }
 },
 "nbformat": 4,
 "nbformat_minor": 5
}
