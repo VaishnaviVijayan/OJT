{
 "cells": [
  {
   "cell_type": "markdown",
   "id": "2cdf58c1-7bbf-4ba0-bc42-9c287730926a",
   "metadata": {},
   "source": [
    "The gensim library needs scipy 1.12.0 so first you need to install this using the following command\n",
    "\r",
    "\r\n",
    "pip install scipy==1.1\r\n",
    "\r\n",
    "pip install gensim"
   ]
  },
  {
   "cell_type": "code",
   "execution_count": 13,
   "id": "f3368f51-4d6b-4806-9f98-8e8104089486",
   "metadata": {},
   "outputs": [],
   "source": [
    "import gensim.downloader as api"
   ]
  },
  {
   "cell_type": "code",
   "execution_count": 14,
   "id": "f243e3b3-8a8a-43ff-806a-60f2561b5c17",
   "metadata": {},
   "outputs": [
    {
     "name": "stdout",
     "output_type": "stream",
     "text": [
      "Dimensions of 50d GloVe vector: 50\n"
     ]
    }
   ],
   "source": [
    "# Load the pre-trained GloVe model with 50 dimensions\n",
    "glove_vectors_50d = api.load(\"glove-wiki-gigaword-50\")\n",
    "print(\"Dimensions of 50d GloVe vector:\", len(glove_vectors_50d['language']))"
   ]
  },
  {
   "cell_type": "code",
   "execution_count": 15,
   "id": "72513e3d-6db8-4e34-a9b5-a1299ebbc5a5",
   "metadata": {},
   "outputs": [
    {
     "name": "stdout",
     "output_type": "stream",
     "text": [
      "Dimensions of 100d GloVe vector: 100\n"
     ]
    }
   ],
   "source": [
    "# Load the pre-trained GloVe model with 100 dimensions\n",
    "glove_vectors_100d = api.load(\"glove-wiki-gigaword-100\")\n",
    "print(\"Dimensions of 100d GloVe vector:\", len(glove_vectors_100d['language']))"
   ]
  },
  {
   "cell_type": "code",
   "execution_count": 16,
   "id": "44aa78cb-abec-4048-9607-6a0911117ab7",
   "metadata": {},
   "outputs": [
    {
     "name": "stdout",
     "output_type": "stream",
     "text": [
      "Dimensions of 200d GloVe vector: 200\n"
     ]
    }
   ],
   "source": [
    "# Load the pre-trained GloVe model with 200 dimensions\n",
    "glove_vectors_200d = api.load(\"glove-wiki-gigaword-200\")\n",
    "print(\"Dimensions of 200d GloVe vector:\", len(glove_vectors_200d['language']))"
   ]
  },
  {
   "cell_type": "code",
   "execution_count": 17,
   "id": "64730f3d-f1ed-42c7-a5fa-a687a518fa65",
   "metadata": {},
   "outputs": [
    {
     "name": "stdout",
     "output_type": "stream",
     "text": [
      "Dimensions of 300d GloVe vector: 300\n"
     ]
    }
   ],
   "source": [
    "# Load the pre-trained GloVe model with 300 dimensions\n",
    "glove_vectors_300d = api.load(\"glove-wiki-gigaword-300\")\n",
    "print(\"Dimensions of 300d GloVe vector:\", len(glove_vectors_300d['language']))"
   ]
  },
  {
   "cell_type": "code",
   "execution_count": null,
   "id": "c9102ae7-1520-4c86-bdc3-5ee1ebbeeaa4",
   "metadata": {},
   "outputs": [],
   "source": []
  },
  {
   "cell_type": "code",
   "execution_count": null,
   "id": "791f50e1-2202-4416-82cf-19c6bdfcc7d6",
   "metadata": {},
   "outputs": [],
   "source": []
  }
 ],
 "metadata": {
  "kernelspec": {
   "display_name": "Python 3 (ipykernel)",
   "language": "python",
   "name": "python3"
  },
  "language_info": {
   "codemirror_mode": {
    "name": "ipython",
    "version": 3
   },
   "file_extension": ".py",
   "mimetype": "text/x-python",
   "name": "python",
   "nbconvert_exporter": "python",
   "pygments_lexer": "ipython3",
   "version": "3.11.7"
  }
 },
 "nbformat": 4,
 "nbformat_minor": 5
}
