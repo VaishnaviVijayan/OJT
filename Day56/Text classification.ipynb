{
 "cells": [
  {
   "cell_type": "code",
   "execution_count": 1,
   "id": "808410ff-d53d-4104-b167-a60363dd4a8c",
   "metadata": {},
   "outputs": [],
   "source": [
    "#create a model with logisric regression and BOW for text classificatin"
   ]
  },
  {
   "cell_type": "code",
   "execution_count": 4,
   "id": "c4e23247-9f8c-4169-b9e5-b63927445552",
   "metadata": {},
   "outputs": [
    {
     "name": "stdout",
     "output_type": "stream",
     "text": [
      "Accuracy: 0.00%\n",
      "Prediction: [1]\n"
     ]
    }
   ],
   "source": [
    "import numpy as np\n",
    "from sklearn.feature_extraction.text import CountVectorizer\n",
    "from sklearn.linear_model import LogisticRegression\n",
    "from sklearn.metrics import accuracy_score\n",
    "from sklearn.model_selection import train_test_split\n",
    "\n",
    "#create sample data\n",
    "reviews = [\n",
    "    \"I love the movie, it was good\",\n",
    "    \"the movie was boring\",\n",
    "    \"excellent movie, actors done well\",\n",
    "    \"it was a normal movie, nothing special\"\n",
    "]\n",
    "#positive=1, negative=0, netural=2\n",
    "labels = [1,0,1,2]\n",
    "#create vectorization for the above\n",
    "\n",
    "vectorizer = CountVectorizer()\n",
    "x = vectorizer.fit_transform(reviews)\n",
    "y = np.array(labels)\n",
    "\n",
    "#splited the train sets and test sets\n",
    "x_train, x_test, y_train, y_test = train_test_split(x,y, test_size=0.2, random_state=42)\n",
    "\n",
    "#create our model\n",
    "model = LogisticRegression()\n",
    "model.fit(x_train, y_train)\n",
    "y_pred = model.predict(x_test)\n",
    "accuracy = accuracy_score(y_test, y_pred)\n",
    "print(f\"Accuracy: {accuracy*100:.2f}%\")\n",
    "\n",
    "\n",
    "#create a sample review for the prediction\n",
    "new_review = [\"i really enjoyed the movie\"]\n",
    "new_review_transformed = vectorizer.transform(new_review)\n",
    "prediction = model.predict(new_review_transformed)\n",
    "print(f\"Prediction: {prediction}\")\n"
   ]
  },
  {
   "cell_type": "code",
   "execution_count": null,
   "id": "bd2d664a-b91e-43ce-aedc-6f20ddfb7f60",
   "metadata": {},
   "outputs": [],
   "source": []
  }
 ],
 "metadata": {
  "kernelspec": {
   "display_name": "Python 3 (ipykernel)",
   "language": "python",
   "name": "python3"
  },
  "language_info": {
   "codemirror_mode": {
    "name": "ipython",
    "version": 3
   },
   "file_extension": ".py",
   "mimetype": "text/x-python",
   "name": "python",
   "nbconvert_exporter": "python",
   "pygments_lexer": "ipython3",
   "version": "3.11.7"
  }
 },
 "nbformat": 4,
 "nbformat_minor": 5
}
